{
 "cells": [
  {
   "cell_type": "markdown",
   "id": "655aec59",
   "metadata": {},
   "source": [
    "# Visualize Ground Truth vs Model Rollout\n",
    "This notebook compares the ground truth particle trajectories with those predicted by the trained GNS model."
   ]
  },
  {
   "cell_type": "code",
   "execution_count": null,
   "id": "255133f0",
   "metadata": {},
   "outputs": [],
   "source": [
    "import h5py\n",
    "import torch\n",
    "import numpy as np\n",
    "import matplotlib.pyplot as plt\n",
    "from models.gns import GNS"
   ]
  },
  {
   "cell_type": "markdown",
   "id": "0be16bb4",
   "metadata": {},
   "source": [
    "## Load Ground Truth Data"
   ]
  },
  {
   "cell_type": "code",
   "execution_count": null,
   "id": "1f50b9af",
   "metadata": {},
   "outputs": [],
   "source": [
    "hdf5_path = '../tools/data_gen/sample_output.h5'  # Update with your file\n",
    "with h5py.File(hdf5_path, 'r') as f:\n",
    "    gt_positions = f['positions'][:]  # [timesteps, particles, 3]"
   ]
  },
  {
   "cell_type": "markdown",
   "id": "d7e2558f",
   "metadata": {},
   "source": [
    "## Load Trained Model"
   ]
  },
  {
   "cell_type": "code",
   "execution_count": null,
   "id": "6a7d6f0a",
   "metadata": {},
   "outputs": [],
   "source": [
    "model = GNS(node_dim=3, edge_dim=0, hidden_dim=64)\n",
    "model.load_state_dict(torch.load('../models/torchscript/gns.pt'))  # Update path if needed\n",
    "model.eval()"
   ]
  },
  {
   "cell_type": "markdown",
   "id": "4bff3485",
   "metadata": {},
   "source": [
    "## Run Model Rollout"
   ]
  },
  {
   "cell_type": "code",
   "execution_count": null,
   "id": "adb7193b",
   "metadata": {},
   "outputs": [],
   "source": [
    "pred_positions = [gt_positions[0]]  # Start from initial state\n",
    "for t in range(1, len(gt_positions)):\n",
    "    x = torch.tensor(pred_positions[-1], dtype=torch.float)\n",
    "    # Dummy edge_index and edge_attr for demo\n",
    "    edge_index = torch.empty((2,0), dtype=torch.long)\n",
    "    edge_attr = None\n",
    "    pred = model(x, edge_index, edge_attr).detach().numpy()\n",
    "    pred_positions.append(pred)"
   ]
  },
  {
   "cell_type": "markdown",
   "id": "cadba9b0",
   "metadata": {},
   "source": [
    "## Plot Trajectories"
   ]
  },
  {
   "cell_type": "code",
   "execution_count": null,
   "id": "07eb471b",
   "metadata": {},
   "outputs": [],
   "source": [
    "plt.figure(figsize=(10,5))\n",
    "for i in range(gt_positions.shape[1]):\n",
    "    plt.plot([p[i,0] for p in gt_positions], label=f'GT Particle {i}')\n",
    "    plt.plot([p[i,0] for p in pred_positions], '--', label=f'Pred Particle {i}')\n",
    "plt.xlabel('Timestep')\n",
    "plt.ylabel('X Position')\n",
    "plt.legend()\n",
    "plt.title('Ground Truth vs Model Rollout (X Position)')\n",
    "plt.show()"
   ]
  }
 ],
 "metadata": {
  "language_info": {
   "name": "python"
  }
 },
 "nbformat": 4,
 "nbformat_minor": 5
}
